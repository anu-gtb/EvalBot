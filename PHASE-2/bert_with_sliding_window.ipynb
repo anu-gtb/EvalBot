{
 "cells": [
  {
   "cell_type": "code",
   "execution_count": 1,
   "id": "3959304e",
   "metadata": {},
   "outputs": [],
   "source": [
    "import pandas as pd\n",
    "import torch\n",
    "from transformers import BertTokenizer,BertForSequenceClassification\n",
    "from sklearn.metrics import classification_report"
   ]
  },
  {
   "cell_type": "code",
   "execution_count": 2,
   "id": "53e7b411",
   "metadata": {},
   "outputs": [],
   "source": [
    "device=torch.device('cuda' if torch.cuda.is_available() else 'cpu')"
   ]
  },
  {
   "cell_type": "markdown",
   "id": "f1d6ff67",
   "metadata": {},
   "source": [
    "Loading data"
   ]
  },
  {
   "cell_type": "code",
   "execution_count": 3,
   "id": "4505b18e",
   "metadata": {},
   "outputs": [],
   "source": [
    "data=pd.read_csv(r'C:\\Users\\DELL\\Documents\\MAJOR PROJECT\\evaluation.csv')"
   ]
  },
  {
   "cell_type": "code",
   "execution_count": 4,
   "id": "f54d01e9",
   "metadata": {},
   "outputs": [
    {
     "data": {
      "text/html": [
       "<div>\n",
       "<style scoped>\n",
       "    .dataframe tbody tr th:only-of-type {\n",
       "        vertical-align: middle;\n",
       "    }\n",
       "\n",
       "    .dataframe tbody tr th {\n",
       "        vertical-align: top;\n",
       "    }\n",
       "\n",
       "    .dataframe thead th {\n",
       "        text-align: right;\n",
       "    }\n",
       "</style>\n",
       "<table border=\"1\" class=\"dataframe\">\n",
       "  <thead>\n",
       "    <tr style=\"text-align: right;\">\n",
       "      <th></th>\n",
       "      <th>similarity</th>\n",
       "      <th>sentence1</th>\n",
       "      <th>sentence2</th>\n",
       "    </tr>\n",
       "  </thead>\n",
       "  <tbody>\n",
       "    <tr>\n",
       "      <th>0</th>\n",
       "      <td>1</td>\n",
       "      <td>two women embracing holding go packages</td>\n",
       "      <td>sisters hugging goodbye holding go packages ea...</td>\n",
       "    </tr>\n",
       "    <tr>\n",
       "      <th>1</th>\n",
       "      <td>2</td>\n",
       "      <td>two women embracing holding go packages</td>\n",
       "      <td>two woman holding packages</td>\n",
       "    </tr>\n",
       "    <tr>\n",
       "      <th>2</th>\n",
       "      <td>0</td>\n",
       "      <td>two women embracing holding go packages</td>\n",
       "      <td>men fighting outside deli</td>\n",
       "    </tr>\n",
       "    <tr>\n",
       "      <th>3</th>\n",
       "      <td>2</td>\n",
       "      <td>two young children blue jerseys one number 9 o...</td>\n",
       "      <td>two kids numbered jerseys wash hands</td>\n",
       "    </tr>\n",
       "    <tr>\n",
       "      <th>4</th>\n",
       "      <td>1</td>\n",
       "      <td>two young children blue jerseys one number 9 o...</td>\n",
       "      <td>two kids ballgame wash hands</td>\n",
       "    </tr>\n",
       "  </tbody>\n",
       "</table>\n",
       "</div>"
      ],
      "text/plain": [
       "   similarity                                          sentence1  \\\n",
       "0           1            two women embracing holding go packages   \n",
       "1           2            two women embracing holding go packages   \n",
       "2           0            two women embracing holding go packages   \n",
       "3           2  two young children blue jerseys one number 9 o...   \n",
       "4           1  two young children blue jerseys one number 9 o...   \n",
       "\n",
       "                                           sentence2  \n",
       "0  sisters hugging goodbye holding go packages ea...  \n",
       "1                         two woman holding packages  \n",
       "2                          men fighting outside deli  \n",
       "3               two kids numbered jerseys wash hands  \n",
       "4                       two kids ballgame wash hands  "
      ]
     },
     "execution_count": 4,
     "metadata": {},
     "output_type": "execute_result"
    }
   ],
   "source": [
    "data.head()"
   ]
  },
  {
   "cell_type": "code",
   "execution_count": null,
   "id": "58033012",
   "metadata": {},
   "outputs": [],
   "source": [
    "sent_pairs=[(row['sentence1'],row['sentence2']) for index,row in data.iterrows()]"
   ]
  },
  {
   "cell_type": "markdown",
   "id": "9dca1fed",
   "metadata": {},
   "source": [
    "Loading tokenizer and selected model from phase 1 "
   ]
  },
  {
   "cell_type": "code",
   "execution_count": 14,
   "id": "729eac3a",
   "metadata": {},
   "outputs": [],
   "source": [
    "model=BertForSequenceClassification.from_pretrained(r'C:\\Users\\DELL\\Documents\\MAJOR PROJECT\\model2',num_labels=3)\n",
    "tokenizer=BertTokenizer.from_pretrained('bert-base-uncased')"
   ]
  },
  {
   "cell_type": "markdown",
   "id": "17e92aee",
   "metadata": {},
   "source": [
    "Applying Sliding Window Attention on data"
   ]
  },
  {
   "cell_type": "code",
   "execution_count": 19,
   "id": "b7b4da81",
   "metadata": {},
   "outputs": [],
   "source": [
    "def sliding_window_mask(input_ids,window_size):\n",
    "  batch_size,seq_len=input_ids.shape\n",
    "  mask=torch.ones((batch_size,seq_len),dtype=torch.float)\n",
    "  for batch in range(batch_size):\n",
    "    for i in range(seq_len):\n",
    "      start=max(0,i-window_size//2)\n",
    "      end=min(seq_len,i+(window_size+1)//2)\n",
    "      row_mask=torch.zeros(seq_len,dtype=torch.float)\n",
    "      row_mask[start:end]=1\n",
    "      mask[batch,i]=row_mask[i]\n",
    "  return mask\n",
    "\n",
    "marks=[]\n",
    "sims=[]\n",
    "for sent1,sent2 in sent_pairs:\n",
    "  inputs=tokenizer(sent1,sent2,return_tensors='pt',padding=True,truncation=True)\n",
    "  input_ids=inputs['input_ids']\n",
    "  window_size=7\n",
    "  attention_mask=sliding_window_mask(input_ids,window_size)\n",
    "  outputs=model(input_ids,attention_mask=attention_mask,labels=torch.tensor([1]))\n",
    "  logits=outputs.logits\n",
    "  mark_obtained=torch.sigmoid(logits)\n",
    "  sim=torch.argmax(logits,dim=1).item()\n",
    "  if sim==0:\n",
    "    avg_marks=torch.min(mark_obtained).item()\n",
    "  elif sim==1:\n",
    "    avg_marks=torch.mean(mark_obtained).item()\n",
    "  elif sim==2:\n",
    "    avg_marks=torch.max(mark_obtained).item()\n",
    "  marks.append(avg_marks)\n",
    "  sims.append(sim)"
   ]
  },
  {
   "cell_type": "markdown",
   "id": "6cb31dc4",
   "metadata": {},
   "source": [
    "Evaluation"
   ]
  },
  {
   "cell_type": "code",
   "execution_count": null,
   "id": "8b6c1098",
   "metadata": {},
   "outputs": [
    {
     "name": "stdout",
     "output_type": "stream",
     "text": [
      "Classification Report for Model with SW\n",
      "       class precision recall\n",
      "0         0      0.93   0.87\n",
      "1         1      0.81   0.87\n",
      "2         2      0.90   0.89\n",
      "3  accuracy      0.88   1000\n",
      "4     macro       avg   0.88\n",
      "5  weighted       avg   0.88\n"
     ]
    }
   ],
   "source": [
    "report=classification_report(list(data['similarity']),sims)\n",
    "rep_lines=report.split('\\n')\n",
    "rep_lines=rep_lines[2:]\n",
    "df=[]\n",
    "for line in rep_lines:\n",
    "  if line.strip():\n",
    "    row=line.strip().split()\n",
    "    df.append({'class':row[0],'precision':row[1],'recall':row[2]})\n",
    "print('Classification Report for Model with SW'+'\\n',pd.DataFrame(df))"
   ]
  }
 ],
 "metadata": {
  "kernelspec": {
   "display_name": "Python 3",
   "language": "python",
   "name": "python3"
  },
  "language_info": {
   "codemirror_mode": {
    "name": "ipython",
    "version": 3
   },
   "file_extension": ".py",
   "mimetype": "text/x-python",
   "name": "python",
   "nbconvert_exporter": "python",
   "pygments_lexer": "ipython3",
   "version": "3.12.3"
  }
 },
 "nbformat": 4,
 "nbformat_minor": 5
}
